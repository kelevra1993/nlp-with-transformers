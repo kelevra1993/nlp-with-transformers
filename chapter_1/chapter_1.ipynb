{
 "cells": [
  {
   "cell_type": "markdown",
   "id": "844a1752-a45a-4bac-8b1b-484f3d3c7399",
   "metadata": {},
   "source": [
    "# Goal Of The File\n",
    "Explore the emotion dataset in order to understand how to feed it to a text classifier\n",
    "that will be trained from scratch.\n"
   ]
  },
  {
   "cell_type": "code",
   "execution_count": 17,
   "id": "725268ac-0d1c-45f6-93b1-dddb44d46090",
   "metadata": {},
   "outputs": [],
   "source": [
    "import os\n",
    "import matplotlib.pyplot as plt\n",
    "import numpy as np\n",
    "import pandas as pd\n",
    "import torch\n",
    "import transformers.tokenization_utils_base\n",
    "from datasets import load_dataset\n",
    "from sklearn.preprocessing import MinMaxScaler\n",
    "from transformers import AutoTokenizer, AutoModel, AutoModelForSequenceClassification, Trainer, TrainingArguments\n",
    "from umap import UMAP\n",
    "from torch.nn.functional import cross_entropy\n",
    "from sklearn.metrics import ConfusionMatrixDisplay, confusion_matrix, accuracy_score, f1_score\n",
    "from sklearn.linear_model import LogisticRegression\n",
    "from sklearn import neural_network\n",
    "\n",
    "# Set column width for dataframes\n",
    "pd.set_option(\"display.max_colwidth\", None)\n",
    "pd.set_option(\"display.width\", 1000)"
   ]
  },
  {
   "cell_type": "code",
   "execution_count": 18,
   "id": "20f675de-956e-4a76-b0ee-aafa2b7559f7",
   "metadata": {},
   "outputs": [],
   "source": [
    "# Load the emotions dataset\n",
    "emotions = load_dataset(\"emotion\")\n",
    "\n",
    "# Load all of the datasets\n",
    "training_dataset, validation_dataset, test_dataset = emotions[\"train\"], emotions[\"validation\"], emotions[\"test\"]\n"
   ]
  },
  {
   "cell_type": "code",
   "execution_count": 21,
   "id": "8cfc1c26-74ee-404e-92b1-a82b36ffc39a",
   "metadata": {},
   "outputs": [
    {
     "data": {
      "text/html": [
       "<div>\n",
       "<style scoped>\n",
       "    .dataframe tbody tr th:only-of-type {\n",
       "        vertical-align: middle;\n",
       "    }\n",
       "\n",
       "    .dataframe tbody tr th {\n",
       "        vertical-align: top;\n",
       "    }\n",
       "\n",
       "    .dataframe thead th {\n",
       "        text-align: right;\n",
       "    }\n",
       "</style>\n",
       "<table border=\"1\" class=\"dataframe\">\n",
       "  <thead>\n",
       "    <tr style=\"text-align: right;\">\n",
       "      <th></th>\n",
       "      <th>text</th>\n",
       "      <th>label</th>\n",
       "    </tr>\n",
       "  </thead>\n",
       "  <tbody>\n",
       "    <tr>\n",
       "      <th>0</th>\n",
       "      <td>i didnt feel humiliated</td>\n",
       "      <td>0</td>\n",
       "    </tr>\n",
       "    <tr>\n",
       "      <th>1</th>\n",
       "      <td>i can go from feeling so hopeless to so damned hopeful just from being around someone who cares and is awake</td>\n",
       "      <td>0</td>\n",
       "    </tr>\n",
       "    <tr>\n",
       "      <th>2</th>\n",
       "      <td>im grabbing a minute to post i feel greedy wrong</td>\n",
       "      <td>3</td>\n",
       "    </tr>\n",
       "    <tr>\n",
       "      <th>3</th>\n",
       "      <td>i am ever feeling nostalgic about the fireplace i will know that it is still on the property</td>\n",
       "      <td>2</td>\n",
       "    </tr>\n",
       "    <tr>\n",
       "      <th>4</th>\n",
       "      <td>i am feeling grouchy</td>\n",
       "      <td>3</td>\n",
       "    </tr>\n",
       "    <tr>\n",
       "      <th>5</th>\n",
       "      <td>ive been feeling a little burdened lately wasnt sure why that was</td>\n",
       "      <td>0</td>\n",
       "    </tr>\n",
       "    <tr>\n",
       "      <th>6</th>\n",
       "      <td>ive been taking or milligrams or times recommended amount and ive fallen asleep a lot faster but i also feel like so funny</td>\n",
       "      <td>5</td>\n",
       "    </tr>\n",
       "    <tr>\n",
       "      <th>7</th>\n",
       "      <td>i feel as confused about life as a teenager or as jaded as a year old man</td>\n",
       "      <td>4</td>\n",
       "    </tr>\n",
       "    <tr>\n",
       "      <th>8</th>\n",
       "      <td>i have been with petronas for years i feel that petronas has performed well and made a huge profit</td>\n",
       "      <td>1</td>\n",
       "    </tr>\n",
       "    <tr>\n",
       "      <th>9</th>\n",
       "      <td>i feel romantic too</td>\n",
       "      <td>2</td>\n",
       "    </tr>\n",
       "  </tbody>\n",
       "</table>\n",
       "</div>"
      ],
      "text/plain": [
       "                                                                                                                         text  label\n",
       "0                                                                                                     i didnt feel humiliated      0\n",
       "1                i can go from feeling so hopeless to so damned hopeful just from being around someone who cares and is awake      0\n",
       "2                                                                            im grabbing a minute to post i feel greedy wrong      3\n",
       "3                                i am ever feeling nostalgic about the fireplace i will know that it is still on the property      2\n",
       "4                                                                                                        i am feeling grouchy      3\n",
       "5                                                           ive been feeling a little burdened lately wasnt sure why that was      0\n",
       "6  ive been taking or milligrams or times recommended amount and ive fallen asleep a lot faster but i also feel like so funny      5\n",
       "7                                                   i feel as confused about life as a teenager or as jaded as a year old man      4\n",
       "8                          i have been with petronas for years i feel that petronas has performed well and made a huge profit      1\n",
       "9                                                                                                         i feel romantic too      2"
      ]
     },
     "execution_count": 21,
     "metadata": {},
     "output_type": "execute_result"
    }
   ],
   "source": [
    "# Set the format of the datasets to pandas ?\n",
    "emotions.set_format(type=\"pandas\")\n",
    "df = emotions[\"train\"][:]\n",
    "df.head(10)\n"
   ]
  },
  {
   "cell_type": "code",
   "execution_count": 16,
   "id": "fb7c629b-d658-4008-8219-e6ef640da886",
   "metadata": {},
   "outputs": [
    {
     "data": {
      "text/plain": [
       "ClassLabel(names=['sadness', 'joy', 'love', 'anger', 'fear', 'surprise'], id=None)"
      ]
     },
     "execution_count": 16,
     "metadata": {},
     "output_type": "execute_result"
    }
   ],
   "source": [
    "training_dataset.features[\"label\"]"
   ]
  },
  {
   "cell_type": "code",
   "execution_count": 51,
   "id": "3490cfad-64eb-4a05-9a60-f24f64757b0d",
   "metadata": {},
   "outputs": [],
   "source": [
    "# Function that will be used to tokenize inputs\n",
    "def tokenize(batch: dict) -> transformers.tokenization_utils_base.BatchEncoding:\n",
    "    \"\"\"\n",
    "    Function that takes in as input a batch that is a dictionary and encodes all of the \"text\" values.\n",
    "    :param batch: dictionary of texts as a batch can be multiple texts\n",
    "    :return: encoded texts for a given batch\n",
    "    \"\"\"\n",
    "    print(len(batch))\n",
    "    return tokenizer(batch[\"text\"], padding=True, truncation=True)"
   ]
  },
  {
   "cell_type": "code",
   "execution_count": 57,
   "id": "98c0af8d-c0ff-48df-a194-9612a6884071",
   "metadata": {},
   "outputs": [
    {
     "data": {
      "application/vnd.jupyter.widget-view+json": {
       "model_id": "c95a0821ecf44af1b1b419fbb67ab7cd",
       "version_major": 2,
       "version_minor": 0
      },
      "text/plain": [
       "Map:   0%|          | 0/16000 [00:00<?, ? examples/s]"
      ]
     },
     "metadata": {},
     "output_type": "display_data"
    },
    {
     "name": "stdout",
     "output_type": "stream",
     "text": [
      "2\n",
      "2\n",
      "2\n",
      "2\n",
      "2\n",
      "2\n",
      "2\n",
      "2\n"
     ]
    },
    {
     "data": {
      "application/vnd.jupyter.widget-view+json": {
       "model_id": "d6eea09c2a4c4208a8ff98edc37ac72f",
       "version_major": 2,
       "version_minor": 0
      },
      "text/plain": [
       "Map:   0%|          | 0/2000 [00:00<?, ? examples/s]"
      ]
     },
     "metadata": {},
     "output_type": "display_data"
    },
    {
     "name": "stdout",
     "output_type": "stream",
     "text": [
      "2\n"
     ]
    },
    {
     "data": {
      "application/vnd.jupyter.widget-view+json": {
       "model_id": "92630bc3a7404a9582a39f38b77d96eb",
       "version_major": 2,
       "version_minor": 0
      },
      "text/plain": [
       "Map:   0%|          | 0/2000 [00:00<?, ? examples/s]"
      ]
     },
     "metadata": {},
     "output_type": "display_data"
    },
    {
     "name": "stdout",
     "output_type": "stream",
     "text": [
      "2\n"
     ]
    }
   ],
   "source": [
    "# Reset the format of our data\n",
    "emotions.reset_format()\n",
    "emotions_encoded = emotions.map(tokenize, batched=True, batch_size=2000)"
   ]
  },
  {
   "cell_type": "code",
   "execution_count": 53,
   "id": "b22520a0-b95b-452b-ac68-9673448d3a9d",
   "metadata": {},
   "outputs": [
    {
     "data": {
      "application/vnd.jupyter.widget-view+json": {
       "model_id": "37dab45efb9d4185af512a61c267a45f",
       "version_major": 2,
       "version_minor": 0
      },
      "text/plain": [
       "Map:   0%|          | 0/16000 [00:00<?, ? examples/s]"
      ]
     },
     "metadata": {},
     "output_type": "display_data"
    },
    {
     "name": "stdout",
     "output_type": "stream",
     "text": [
      "2\n"
     ]
    },
    {
     "data": {
      "application/vnd.jupyter.widget-view+json": {
       "model_id": "3f6fc3f61e8f448cac04f3cb1bf20176",
       "version_major": 2,
       "version_minor": 0
      },
      "text/plain": [
       "Map:   0%|          | 0/2000 [00:00<?, ? examples/s]"
      ]
     },
     "metadata": {},
     "output_type": "display_data"
    },
    {
     "name": "stdout",
     "output_type": "stream",
     "text": [
      "2\n"
     ]
    },
    {
     "data": {
      "application/vnd.jupyter.widget-view+json": {
       "model_id": "ffd1f83ae99f4753bfb103791b396568",
       "version_major": 2,
       "version_minor": 0
      },
      "text/plain": [
       "Map:   0%|          | 0/2000 [00:00<?, ? examples/s]"
      ]
     },
     "metadata": {},
     "output_type": "display_data"
    },
    {
     "name": "stdout",
     "output_type": "stream",
     "text": [
      "2\n"
     ]
    }
   ],
   "source": []
  },
  {
   "cell_type": "code",
   "execution_count": null,
   "id": "983bcd7a-6b34-4b85-82c2-106f21ea3273",
   "metadata": {},
   "outputs": [],
   "source": []
  }
 ],
 "metadata": {
  "kernelspec": {
   "display_name": "nlp_with_transformers",
   "language": "python",
   "name": "nlp_with_transformers"
  },
  "language_info": {
   "codemirror_mode": {
    "name": "ipython",
    "version": 3
   },
   "file_extension": ".py",
   "mimetype": "text/x-python",
   "name": "python",
   "nbconvert_exporter": "python",
   "pygments_lexer": "ipython3",
   "version": "3.10.10"
  }
 },
 "nbformat": 4,
 "nbformat_minor": 5
}
